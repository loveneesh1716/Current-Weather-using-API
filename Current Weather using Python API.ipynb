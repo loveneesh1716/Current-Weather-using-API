{
 "cells": [
  {
   "cell_type": "code",
   "execution_count": 1,
   "metadata": {},
   "outputs": [
    {
     "name": "stdout",
     "output_type": "stream",
     "text": [
      "Enter city name: Ambala\n",
      "++++++++++++++++++++++++++++++++++++++++++++++++++++++++++++++\n",
      "Weather Stats for -> AMBALA \n",
      "Date And Time     -> 21 Feb 2021 | 04:49:58 AM \n",
      "++++++++++++++++++++++++++++++++++++++++++++++++++++++++++++++\n",
      "Current temperature is: 13.27 deg C\n",
      "Current weather desc  : clear sky\n",
      "Current Humidity      : 47 %\n",
      "Current wind speed    : 3.39 kmph\n"
     ]
    }
   ],
   "source": [
    "import requests\n",
    "from datetime import datetime\n",
    "\n",
    "user_api = \"https://api.openweathermap.org/data/2.5/weather?appid=0c42f7f6b53b244c78a418f4f181282a&q=\"\n",
    "location = input(\"Enter city name: \")\n",
    "\n",
    "complete_api_link = user_api+location\n",
    "api_link = requests.get(complete_api_link)\n",
    "api_data = api_link.json()\n",
    "\n",
    "#create variables to store and display data\n",
    "temp_city = ((api_data['main']['temp']) - 273.15)\n",
    "weather_desc = api_data['weather'][0]['description']\n",
    "hmdt = api_data['main']['humidity']\n",
    "wind_spd = api_data['wind']['speed']\n",
    "date_time = datetime.now().strftime(\"%d %b %Y | %I:%M:%S %p\")\n",
    "\n",
    "print (\"++++++++++++++++++++++++++++++++++++++++++++++++++++++++++++++\")\n",
    "print (\"Weather Stats for -> {} \".format(location.upper() ))\n",
    "print (\"Date And Time     -> {} \".format(date_time))\n",
    "print (\"++++++++++++++++++++++++++++++++++++++++++++++++++++++++++++++\")\n",
    "\n",
    "print (\"Current temperature is: {:.2f} deg C\".format(temp_city))\n",
    "print (\"Current weather desc  :\",weather_desc)\n",
    "print (\"Current Humidity      :\",hmdt, '%')\n",
    "print (\"Current wind speed    :\",wind_spd ,'kmph')"
   ]
  }
 ],
 "metadata": {
  "kernelspec": {
   "display_name": "Python 3",
   "language": "python",
   "name": "python3"
  },
  "language_info": {
   "codemirror_mode": {
    "name": "ipython",
    "version": 3
   },
   "file_extension": ".py",
   "mimetype": "text/x-python",
   "name": "python",
   "nbconvert_exporter": "python",
   "pygments_lexer": "ipython3",
   "version": "3.9.1"
  }
 },
 "nbformat": 4,
 "nbformat_minor": 4
}
